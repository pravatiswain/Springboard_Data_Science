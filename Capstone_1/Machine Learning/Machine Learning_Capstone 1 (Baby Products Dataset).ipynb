{
 "cells": [
  {
   "cell_type": "markdown",
   "metadata": {},
   "source": [
    "## Machine Learning Algorithms for Capstone 1: Baby Products Dataset\n",
    "\n",
    "_Sentiment Analysis of Amazon Products Reviews_\n"
   ]
  },
  {
   "cell_type": "markdown",
   "metadata": {},
   "source": [
    "__Import Packages__"
   ]
  },
  {
   "cell_type": "code",
   "execution_count": 1,
   "metadata": {},
   "outputs": [],
   "source": [
    "#General packages\n",
    "import pandas as pd\n",
    "import numpy as np\n",
    "import pickle\n",
    "import scipy.stats\n",
    "from scipy.stats import norm\n",
    "import scipy as sp\n",
    "\n",
    "#Visualization packages\n",
    "import seaborn as sns\n",
    "import matplotlib.pyplot as plt\n",
    "# Build figures inline\n",
    "%matplotlib inline\n",
    "\n",
    "#NLP packages\n",
    "import re\n",
    "import nltk\n",
    "from wordcloud import WordCloud\n",
    "\n",
    "#Text preprocessing packages\n",
    "from nltk.tokenize import word_tokenize \n",
    "from nltk.corpus import stopwords\n",
    "from nltk.stem import WordNetLemmatizer\n",
    "\n",
    "# Import scikit-learn tools, vectorizers, transformer, and classifiers\n",
    "from sklearn.model_selection import train_test_split\n",
    "from sklearn import metrics\n",
    "from sklearn.metrics import roc_curve\n",
    "from sklearn.metrics import precision_recall_curve\n",
    "from sklearn.metrics import balanced_accuracy_score\n",
    "from sklearn.metrics import accuracy_score\n",
    "\n",
    "# import CountVectorizer and TfidfVectorizer\n",
    "from sklearn.feature_extraction.text import CountVectorizer, TfidfVectorizer\n",
    "\n",
    "#Classification Models\n",
    "from sklearn.linear_model import LogisticRegression\n",
    "from sklearn.naive_bayes import MultinomialNB\n",
    "from sklearn.svm import SVC\n",
    "from sklearn.ensemble import RandomForestClassifier\n",
    "\n",
    "#Cross validation packages for hyperparameter tuning\n",
    "from sklearn.model_selection import GridSearchCV"
   ]
  },
  {
   "cell_type": "code",
   "execution_count": 2,
   "metadata": {},
   "outputs": [],
   "source": [
    "#load pickled files to DataFrame\n",
    "baby_products = pd.read_pickle('baby_products_stats.pkl')\n",
    "grocery_foods = pd.read_pickle('grocery_foods_stats.pkl')\n",
    "cell_phones = pd.read_pickle('cell_phones_stats.pkl')"
   ]
  },
  {
   "cell_type": "code",
   "execution_count": 3,
   "metadata": {},
   "outputs": [
    {
     "data": {
      "text/html": [
       "<div>\n",
       "<style scoped>\n",
       "    .dataframe tbody tr th:only-of-type {\n",
       "        vertical-align: middle;\n",
       "    }\n",
       "\n",
       "    .dataframe tbody tr th {\n",
       "        vertical-align: top;\n",
       "    }\n",
       "\n",
       "    .dataframe thead th {\n",
       "        text-align: right;\n",
       "    }\n",
       "</style>\n",
       "<table border=\"1\" class=\"dataframe\">\n",
       "  <thead>\n",
       "    <tr style=\"text-align: right;\">\n",
       "      <th></th>\n",
       "      <th>reviewText</th>\n",
       "      <th>rating</th>\n",
       "      <th>review_summary</th>\n",
       "    </tr>\n",
       "  </thead>\n",
       "  <tbody>\n",
       "    <tr>\n",
       "      <th>0</th>\n",
       "      <td>Perfect for new parents. We were able to keep ...</td>\n",
       "      <td>5</td>\n",
       "      <td>Awesine</td>\n",
       "    </tr>\n",
       "    <tr>\n",
       "      <th>1</th>\n",
       "      <td>This book is such a life saver.  It has been s...</td>\n",
       "      <td>5</td>\n",
       "      <td>Should be required for all new parents!</td>\n",
       "    </tr>\n",
       "  </tbody>\n",
       "</table>\n",
       "</div>"
      ],
      "text/plain": [
       "                                          reviewText  rating  \\\n",
       "0  Perfect for new parents. We were able to keep ...       5   \n",
       "1  This book is such a life saver.  It has been s...       5   \n",
       "\n",
       "                            review_summary  \n",
       "0                                  Awesine  \n",
       "1  Should be required for all new parents!  "
      ]
     },
     "execution_count": 3,
     "metadata": {},
     "output_type": "execute_result"
    }
   ],
   "source": [
    "baby_products.head(2)"
   ]
  },
  {
   "cell_type": "code",
   "execution_count": 4,
   "metadata": {},
   "outputs": [
    {
     "data": {
      "text/html": [
       "<div>\n",
       "<style scoped>\n",
       "    .dataframe tbody tr th:only-of-type {\n",
       "        vertical-align: middle;\n",
       "    }\n",
       "\n",
       "    .dataframe tbody tr th {\n",
       "        vertical-align: top;\n",
       "    }\n",
       "\n",
       "    .dataframe thead th {\n",
       "        text-align: right;\n",
       "    }\n",
       "</style>\n",
       "<table border=\"1\" class=\"dataframe\">\n",
       "  <thead>\n",
       "    <tr style=\"text-align: right;\">\n",
       "      <th></th>\n",
       "      <th>reviewText</th>\n",
       "      <th>rating</th>\n",
       "      <th>review_summary</th>\n",
       "      <th>label_baby</th>\n",
       "    </tr>\n",
       "  </thead>\n",
       "  <tbody>\n",
       "    <tr>\n",
       "      <th>0</th>\n",
       "      <td>Perfect for new parents. We were able to keep ...</td>\n",
       "      <td>5</td>\n",
       "      <td>Awesine</td>\n",
       "      <td>1</td>\n",
       "    </tr>\n",
       "    <tr>\n",
       "      <th>1</th>\n",
       "      <td>This book is such a life saver.  It has been s...</td>\n",
       "      <td>5</td>\n",
       "      <td>Should be required for all new parents!</td>\n",
       "      <td>1</td>\n",
       "    </tr>\n",
       "  </tbody>\n",
       "</table>\n",
       "</div>"
      ],
      "text/plain": [
       "                                          reviewText  rating  \\\n",
       "0  Perfect for new parents. We were able to keep ...       5   \n",
       "1  This book is such a life saver.  It has been s...       5   \n",
       "\n",
       "                            review_summary  label_baby  \n",
       "0                                  Awesine           1  \n",
       "1  Should be required for all new parents!           1  "
      ]
     },
     "execution_count": 4,
     "metadata": {},
     "output_type": "execute_result"
    }
   ],
   "source": [
    "# Labeling the dataset\n",
    "# label: 1 = high rating (rating = 5), label: 0 = low rating (not5)\n",
    "\n",
    "def label_func(rating):\n",
    "    if rating == 5:\n",
    "        return 1\n",
    "    else:\n",
    "        return 0\n",
    "baby_products['label_baby'] = baby_products['rating'].apply(label_func) # labelling baby_products dataset\n",
    "baby_products.head(2)"
   ]
  },
  {
   "cell_type": "code",
   "execution_count": 170,
   "metadata": {},
   "outputs": [
    {
     "data": {
      "text/html": [
       "<div>\n",
       "<style scoped>\n",
       "    .dataframe tbody tr th:only-of-type {\n",
       "        vertical-align: middle;\n",
       "    }\n",
       "\n",
       "    .dataframe tbody tr th {\n",
       "        vertical-align: top;\n",
       "    }\n",
       "\n",
       "    .dataframe thead th {\n",
       "        text-align: right;\n",
       "    }\n",
       "</style>\n",
       "<table border=\"1\" class=\"dataframe\">\n",
       "  <thead>\n",
       "    <tr style=\"text-align: right;\">\n",
       "      <th></th>\n",
       "      <th>reviewText</th>\n",
       "      <th>rating</th>\n",
       "      <th>review_summary</th>\n",
       "      <th>label_food</th>\n",
       "    </tr>\n",
       "  </thead>\n",
       "  <tbody>\n",
       "    <tr>\n",
       "      <th>0</th>\n",
       "      <td>Just another flavor of Kit Kat but the taste i...</td>\n",
       "      <td>4</td>\n",
       "      <td>Good Taste</td>\n",
       "      <td>0</td>\n",
       "    </tr>\n",
       "    <tr>\n",
       "      <th>1</th>\n",
       "      <td>I bought this on impulse and it comes from Jap...</td>\n",
       "      <td>3</td>\n",
       "      <td>3.5 stars,  sadly not as wonderful as I had hoped</td>\n",
       "      <td>0</td>\n",
       "    </tr>\n",
       "  </tbody>\n",
       "</table>\n",
       "</div>"
      ],
      "text/plain": [
       "                                          reviewText  rating  \\\n",
       "0  Just another flavor of Kit Kat but the taste i...       4   \n",
       "1  I bought this on impulse and it comes from Jap...       3   \n",
       "\n",
       "                                      review_summary  label_food  \n",
       "0                                         Good Taste           0  \n",
       "1  3.5 stars,  sadly not as wonderful as I had hoped           0  "
      ]
     },
     "execution_count": 170,
     "metadata": {},
     "output_type": "execute_result"
    }
   ],
   "source": [
    "grocery_foods['label_food'] = grocery_foods['rating'].apply(label_func) # labeling  grocery_foods dataset\n",
    "grocery_foods.head(2)"
   ]
  },
  {
   "cell_type": "code",
   "execution_count": 171,
   "metadata": {},
   "outputs": [
    {
     "data": {
      "text/html": [
       "<div>\n",
       "<style scoped>\n",
       "    .dataframe tbody tr th:only-of-type {\n",
       "        vertical-align: middle;\n",
       "    }\n",
       "\n",
       "    .dataframe tbody tr th {\n",
       "        vertical-align: top;\n",
       "    }\n",
       "\n",
       "    .dataframe thead th {\n",
       "        text-align: right;\n",
       "    }\n",
       "</style>\n",
       "<table border=\"1\" class=\"dataframe\">\n",
       "  <thead>\n",
       "    <tr style=\"text-align: right;\">\n",
       "      <th></th>\n",
       "      <th>reviewText</th>\n",
       "      <th>rating</th>\n",
       "      <th>review_summary</th>\n",
       "      <th>label_phone</th>\n",
       "    </tr>\n",
       "  </thead>\n",
       "  <tbody>\n",
       "    <tr>\n",
       "      <th>0</th>\n",
       "      <td>They look good and stick good! I just don't li...</td>\n",
       "      <td>4</td>\n",
       "      <td>Looks Good</td>\n",
       "      <td>0</td>\n",
       "    </tr>\n",
       "    <tr>\n",
       "      <th>1</th>\n",
       "      <td>These stickers work like the review says they ...</td>\n",
       "      <td>5</td>\n",
       "      <td>Really great product.</td>\n",
       "      <td>1</td>\n",
       "    </tr>\n",
       "  </tbody>\n",
       "</table>\n",
       "</div>"
      ],
      "text/plain": [
       "                                          reviewText  rating  \\\n",
       "0  They look good and stick good! I just don't li...       4   \n",
       "1  These stickers work like the review says they ...       5   \n",
       "\n",
       "          review_summary  label_phone  \n",
       "0             Looks Good            0  \n",
       "1  Really great product.            1  "
      ]
     },
     "execution_count": 171,
     "metadata": {},
     "output_type": "execute_result"
    }
   ],
   "source": [
    "cell_phones['label_phone'] = cell_phones['rating'].apply(label_func)    # labeling cell_phones dataset\n",
    "cell_phones.head(2)"
   ]
  },
  {
   "cell_type": "markdown",
   "metadata": {},
   "source": [
    "### Text Pre-Processing to reduce document dimension\n",
    "\n",
    "- Remove URL.\n",
    "- Remove numbers and Punctuation\n",
    "- Convert all characters into lowercase\n",
    "- Tokenization\n",
    "- Remove Stopwords\n",
    "- Lemmatization\n",
    "- convert list of tokens back into the string"
   ]
  },
  {
   "cell_type": "code",
   "execution_count": 5,
   "metadata": {},
   "outputs": [
    {
     "data": {
      "text/html": [
       "<div>\n",
       "<style scoped>\n",
       "    .dataframe tbody tr th:only-of-type {\n",
       "        vertical-align: middle;\n",
       "    }\n",
       "\n",
       "    .dataframe tbody tr th {\n",
       "        vertical-align: top;\n",
       "    }\n",
       "\n",
       "    .dataframe thead th {\n",
       "        text-align: right;\n",
       "    }\n",
       "</style>\n",
       "<table border=\"1\" class=\"dataframe\">\n",
       "  <thead>\n",
       "    <tr style=\"text-align: right;\">\n",
       "      <th></th>\n",
       "      <th>reviewText</th>\n",
       "      <th>rating</th>\n",
       "      <th>review_summary</th>\n",
       "      <th>label_baby</th>\n",
       "      <th>clean_review_baby</th>\n",
       "    </tr>\n",
       "  </thead>\n",
       "  <tbody>\n",
       "    <tr>\n",
       "      <th>0</th>\n",
       "      <td>Perfect for new parents. We were able to keep ...</td>\n",
       "      <td>5</td>\n",
       "      <td>Awesine</td>\n",
       "      <td>1</td>\n",
       "      <td>perfect for new . we were able to keep track o...</td>\n",
       "    </tr>\n",
       "    <tr>\n",
       "      <th>1</th>\n",
       "      <td>This book is such a life saver.  It has been s...</td>\n",
       "      <td>5</td>\n",
       "      <td>Should be required for all new parents!</td>\n",
       "      <td>1</td>\n",
       "      <td>this book is such a life saver . it been so he...</td>\n",
       "    </tr>\n",
       "  </tbody>\n",
       "</table>\n",
       "</div>"
      ],
      "text/plain": [
       "                                          reviewText  rating  \\\n",
       "0  Perfect for new parents. We were able to keep ...       5   \n",
       "1  This book is such a life saver.  It has been s...       5   \n",
       "\n",
       "                            review_summary  label_baby  \\\n",
       "0                                  Awesine           1   \n",
       "1  Should be required for all new parents!           1   \n",
       "\n",
       "                                   clean_review_baby  \n",
       "0  perfect for new . we were able to keep track o...  \n",
       "1  this book is such a life saver . it been so he...  "
      ]
     },
     "execution_count": 5,
     "metadata": {},
     "output_type": "execute_result"
    }
   ],
   "source": [
    "# Remove non-English using NLTK\n",
    "\n",
    "words = set(nltk.corpus.words.words())\n",
    "\n",
    "def remove_non_en(text):\n",
    "    text = \" \".join(w.lower() for w in nltk.wordpunct_tokenize(text) if w.lower() in words or not w.isalpha())\n",
    "    return text\n",
    "\n",
    "baby_products['clean_review_baby'] = baby_products['reviewText'].apply(lambda x: remove_non_en(x)) # baby_products dataset\n",
    "baby_products.head(2)\n"
   ]
  },
  {
   "cell_type": "code",
   "execution_count": null,
   "metadata": {},
   "outputs": [],
   "source": [
    "grocery_foods['clean_review_food'] = grocery_foods['reviewText'].apply(lambda x: remove_non_en(x)) # grocery_foods dataset\n",
    "grocery_foods.head(2)"
   ]
  },
  {
   "cell_type": "code",
   "execution_count": null,
   "metadata": {},
   "outputs": [],
   "source": [
    "cell_phones['clean_review_phone'] = cell_phones['reviewText'].apply(lambda x: remove_non_en(x)) # cell_phones dataset\n",
    "\n",
    "cell_phones(2)"
   ]
  },
  {
   "cell_type": "code",
   "execution_count": 6,
   "metadata": {},
   "outputs": [
    {
     "data": {
      "text/html": [
       "<div>\n",
       "<style scoped>\n",
       "    .dataframe tbody tr th:only-of-type {\n",
       "        vertical-align: middle;\n",
       "    }\n",
       "\n",
       "    .dataframe tbody tr th {\n",
       "        vertical-align: top;\n",
       "    }\n",
       "\n",
       "    .dataframe thead th {\n",
       "        text-align: right;\n",
       "    }\n",
       "</style>\n",
       "<table border=\"1\" class=\"dataframe\">\n",
       "  <thead>\n",
       "    <tr style=\"text-align: right;\">\n",
       "      <th></th>\n",
       "      <th>reviewText</th>\n",
       "      <th>rating</th>\n",
       "      <th>review_summary</th>\n",
       "      <th>label_baby</th>\n",
       "      <th>clean_review_baby</th>\n",
       "    </tr>\n",
       "  </thead>\n",
       "  <tbody>\n",
       "    <tr>\n",
       "      <th>0</th>\n",
       "      <td>Perfect for new parents. We were able to keep ...</td>\n",
       "      <td>5</td>\n",
       "      <td>Awesine</td>\n",
       "      <td>1</td>\n",
       "      <td>perfect new able keep track baby feed sleep di...</td>\n",
       "    </tr>\n",
       "    <tr>\n",
       "      <th>1</th>\n",
       "      <td>This book is such a life saver.  It has been s...</td>\n",
       "      <td>5</td>\n",
       "      <td>Should be required for all new parents!</td>\n",
       "      <td>1</td>\n",
       "      <td>book life saver helpful able go back track ans...</td>\n",
       "    </tr>\n",
       "  </tbody>\n",
       "</table>\n",
       "</div>"
      ],
      "text/plain": [
       "                                          reviewText  rating  \\\n",
       "0  Perfect for new parents. We were able to keep ...       5   \n",
       "1  This book is such a life saver.  It has been s...       5   \n",
       "\n",
       "                            review_summary  label_baby  \\\n",
       "0                                  Awesine           1   \n",
       "1  Should be required for all new parents!           1   \n",
       "\n",
       "                                   clean_review_baby  \n",
       "0  perfect new able keep track baby feed sleep di...  \n",
       "1  book life saver helpful able go back track ans...  "
      ]
     },
     "execution_count": 6,
     "metadata": {},
     "output_type": "execute_result"
    }
   ],
   "source": [
    "# Preprocessing\n",
    "stop_words = set(stopwords.words('english'))\n",
    "lemma = WordNetLemmatizer()\n",
    "\n",
    "def text_preprocessing(review):\n",
    "    review = re.sub(r'http\\S+', '', review)   # removing URL\n",
    "    review = re.sub('[^a-zA-Z]', ' ', review) # keep only alpha (removing numbers and punctions)\n",
    "    review = str(review).lower()              # Lowercase all text\n",
    "    review = word_tokenize(review)            # Tokenization\n",
    "    review = [w for w in review if w not in stop_words] # Removing Stopwords\n",
    "    review = [lemma.lemmatize(word=w, pos='v') for w in review] # Lemmatization\n",
    "    review = ' '.join(review)\n",
    "    return review\n",
    "baby_products['clean_review_baby'] = baby_products['clean_review_baby'].apply(text_preprocessing) # baby_products preprocessiing\n",
    "baby_products.head(2)"
   ]
  },
  {
   "cell_type": "code",
   "execution_count": null,
   "metadata": {},
   "outputs": [],
   "source": [
    "grocery_foods['clean_review_food'] = grocery_foods['clean_review_food'].apply(text_preprocessing) # grocery_foods preprocessing\n",
    "grocery_foods.head(2)\n"
   ]
  },
  {
   "cell_type": "code",
   "execution_count": null,
   "metadata": {},
   "outputs": [],
   "source": [
    "cell_phones['clean_review_phone'] = cell_phones['clean_review_phone'].apply(text_preprocessing) # cell_phones preprocessing\n",
    "cell_phones.head(2)"
   ]
  },
  {
   "cell_type": "markdown",
   "metadata": {},
   "source": [
    "## Machine Learning on Baby_products Dataset"
   ]
  },
  {
   "cell_type": "markdown",
   "metadata": {},
   "source": [
    "### Create X and y, split train and test data sets"
   ]
  },
  {
   "cell_type": "code",
   "execution_count": 7,
   "metadata": {},
   "outputs": [
    {
     "name": "stdout",
     "output_type": "stream",
     "text": [
      "(160662,)\n",
      "(160662,)\n"
     ]
    }
   ],
   "source": [
    "# store the feature matrix (X) and response vector (y) of dataset\n",
    "# uppercase X because it's an m x n matrix\n",
    "# lowercase y because it's a m x 1 vector\n",
    "\n",
    "X_baby = baby_products.clean_review_baby\n",
    "y_baby = baby_products.label_baby\n",
    "\n",
    "print(X_baby.shape)\n",
    "print(y_baby.shape)"
   ]
  },
  {
   "cell_type": "code",
   "execution_count": 8,
   "metadata": {},
   "outputs": [
    {
     "name": "stdout",
     "output_type": "stream",
     "text": [
      "X Training set sample size: 112463\n",
      "X Testing set sample size: 48199\n",
      "y Training set sample size: 112463\n",
      "y Testing set sample size: 48199\n"
     ]
    }
   ],
   "source": [
    "# split the data into training and test sets\n",
    "X_train_baby, X_test_baby, y_train_baby, y_test_baby = train_test_split(X_baby, y_baby, random_state=42, test_size=0.3)\n",
    "\n",
    "# Show the results of the split\n",
    "print(\"X Training set sample size:\", (X_train_baby.shape[0]))\n",
    "print(\"X Testing set sample size:\", (X_test_baby.shape[0]))\n",
    "print(\"y Training set sample size:\", (y_train_baby.shape[0]))\n",
    "print(\"y Testing set sample size:\", (y_test_baby.shape[0]))"
   ]
  },
  {
   "cell_type": "markdown",
   "metadata": {},
   "source": [
    "### Vectorize, fit, create document-term matrix with two vectorizers"
   ]
  },
  {
   "cell_type": "code",
   "execution_count": 9,
   "metadata": {},
   "outputs": [],
   "source": [
    "# Instantiate CountVectorizer and TfidfVectorizer\n",
    "vect = CountVectorizer(min_df=1, ngram_range=(1, 2)) \n",
    "tfidf = TfidfVectorizer(min_df=1, ngram_range=(1, 2))"
   ]
  },
  {
   "cell_type": "code",
   "execution_count": 10,
   "metadata": {},
   "outputs": [
    {
     "data": {
      "text/plain": [
       "<112463x1089423 sparse matrix of type '<class 'numpy.int64'>'\n",
       "\twith 7559470 stored elements in Compressed Sparse Row format>"
      ]
     },
     "execution_count": 10,
     "metadata": {},
     "output_type": "execute_result"
    }
   ],
   "source": [
    "# Apply CountVectorizer to learn training data vocabulary, then use it to create a document-term matrix\n",
    "X_train_dtm = vect.fit_transform(X_train_baby)\n",
    "\n",
    "# examine the document-term matrix\n",
    "X_train_dtm"
   ]
  },
  {
   "cell_type": "code",
   "execution_count": 11,
   "metadata": {},
   "outputs": [
    {
     "data": {
      "text/plain": [
       "<48199x1089423 sparse matrix of type '<class 'numpy.int64'>'\n",
       "\twith 2947461 stored elements in Compressed Sparse Row format>"
      ]
     },
     "execution_count": 11,
     "metadata": {},
     "output_type": "execute_result"
    }
   ],
   "source": [
    "# transform testing data (using fitted vocabulary) into a document-term matrix\n",
    "X_test_dtm = vect.transform(X_test_baby)\n",
    "X_test_dtm"
   ]
  },
  {
   "cell_type": "code",
   "execution_count": 12,
   "metadata": {},
   "outputs": [
    {
     "data": {
      "text/plain": [
       "<48199x1089423 sparse matrix of type '<class 'numpy.float64'>'\n",
       "\twith 2947461 stored elements in Compressed Sparse Row format>"
      ]
     },
     "execution_count": 12,
     "metadata": {},
     "output_type": "execute_result"
    }
   ],
   "source": [
    "# Apply TfidfVectorizer to learn training data vocabulary,then use it to create a document-term matrix\n",
    "X_train_tfidf_baby = tfidf.fit_transform(X_train_baby)\n",
    "\n",
    "# transform testing data with tfidif vectorizer into document-term matrix\n",
    "X_test_tfidf_baby = tfidf.transform(X_test_baby)\n",
    "X_test_tfidf_baby"
   ]
  },
  {
   "cell_type": "markdown",
   "metadata": {},
   "source": [
    "### Build baseline model with Naive Bayes and compare vectorizers"
   ]
  },
  {
   "cell_type": "code",
   "execution_count": 13,
   "metadata": {},
   "outputs": [
    {
     "name": "stdout",
     "output_type": "stream",
     "text": [
      "CountVectorizer(analyzer='word', binary=False, decode_error='strict',\n",
      "                dtype=<class 'numpy.int64'>, encoding='utf-8', input='content',\n",
      "                lowercase=True, max_df=1.0, max_features=None, min_df=1,\n",
      "                ngram_range=(1, 2), preprocessor=None, stop_words=None,\n",
      "                strip_accents=None, token_pattern='(?u)\\\\b\\\\w\\\\w+\\\\b',\n",
      "                tokenizer=None, vocabulary=None)\n",
      "\n",
      "F1 Score:  0.8081951610479386\n",
      "\n",
      "Confusion Matrix:\n",
      " [[12511  7651]\n",
      " [ 3836 24201]]\n",
      "\n",
      "AUC:  0.7418522771839783\n"
     ]
    }
   ],
   "source": [
    "# Instantiate MultinomialNB() classifier for CountVectorizer\n",
    "nb = MultinomialNB(alpha=1, fit_prior=True)\n",
    "\n",
    "# Train model\n",
    "nb.fit(X_train_dtm, y_train_baby)\n",
    "\n",
    "# Make class predictions for X_test_dtm\n",
    "y_pred_class = nb.predict(X_test_dtm)\n",
    "\n",
    "# Calculate F1 Score\n",
    "f1 = metrics.f1_score(y_test_baby, y_pred_class)\n",
    "\n",
    "# Confusion matrix\n",
    "cm = metrics.confusion_matrix(y_test_baby, y_pred_class)\n",
    "\n",
    "# Calculate predicted probabilities for X_test_dtm\n",
    "y_pred_prob = nb.predict_proba(X_test_dtm)[:,1]\n",
    "\n",
    "# Calculate AUC for Naive Bayes model with CountVec\n",
    "auc = metrics.roc_auc_score(y_test_baby, y_pred_class)\n",
    "\n",
    "print(vect)\n",
    "print('\\nF1 Score: ', f1)\n",
    "print('\\nConfusion Matrix:\\n', cm)\n",
    "print('\\nAUC: ', auc)"
   ]
  },
  {
   "cell_type": "markdown",
   "metadata": {},
   "source": [
    "From the confusion matrix we can see, using CountVectorizer, at baseline the Naive Bayes model 24201 reviews were correctly predicted as 'five' (positive) ratings (TP) and 12511 were correctly predicted as 'not5' (negative) ratings (TN).\n",
    "However, 7651 reviews were incorrectly predicted to be 'five' (positive) ratings (FP:Type I error) and 3836 reviews were incorrectly predicted to be 'not5' (negative) ratings (FN: Type II error). \n",
    "\n",
    "Let's compare it with the TfidfVectorizer."
   ]
  },
  {
   "cell_type": "code",
   "execution_count": 14,
   "metadata": {},
   "outputs": [
    {
     "name": "stdout",
     "output_type": "stream",
     "text": [
      "TfidfVectorizer(analyzer='word', binary=False, decode_error='strict',\n",
      "                dtype=<class 'numpy.float64'>, encoding='utf-8',\n",
      "                input='content', lowercase=True, max_df=1.0, max_features=None,\n",
      "                min_df=1, ngram_range=(1, 2), norm='l2', preprocessor=None,\n",
      "                smooth_idf=True, stop_words=None, strip_accents=None,\n",
      "                sublinear_tf=False, token_pattern='(?u)\\\\b\\\\w\\\\w+\\\\b',\n",
      "                tokenizer=None, use_idf=True, vocabulary=None)\n",
      "\n",
      "F1 Score:  0.7753243478017204\n",
      "\n",
      "Confusion Matrix:\n",
      " [[ 4494 15668]\n",
      " [  368 27669]]\n",
      "\n",
      "AUC:  0.8325516131688426\n"
     ]
    }
   ],
   "source": [
    "# COMPARE TFIDF VECTORIZER\n",
    "\n",
    "# instantiate MultinomialNB() classifier to use on tfidf vectors\n",
    "nb_tfidf = MultinomialNB(alpha=1, fit_prior=True)\n",
    "\n",
    "# train the model \n",
    "nb_tfidf.fit(X_train_tfidf_baby, y_train_baby)\n",
    "\n",
    "# Make class predictions for X_test_tidf_baby\n",
    "y_pred_tfidf = nb_tfidf.predict(X_test_tfidf_baby)\n",
    "\n",
    "# Calculate F1 Score\n",
    "f1 = metrics.f1_score(y_test_baby, y_pred_tfidf)\n",
    "\n",
    "# Confusion matrix\n",
    "cm = metrics.confusion_matrix(y_test_baby, y_pred_tfidf)\n",
    "\n",
    "# Calculate predicted probabilities for Xtest1\n",
    "y_prob_tfidf = nb_tfidf.predict_proba(X_test_tfidf_baby)[:,1]\n",
    "\n",
    "# Calculate AUC for Naive Bayes model with Tfidf\n",
    "auc = metrics.roc_auc_score(y_test_baby, y_prob_tfidf)\n",
    "\n",
    "print(tfidf)\n",
    "print('\\nF1 Score: ', f1)\n",
    "print('\\nConfusion Matrix:\\n', cm)\n",
    "print('\\nAUC: ', auc)"
   ]
  },
  {
   "cell_type": "markdown",
   "metadata": {},
   "source": [
    "From the confusion matrix we can see, using TFIDF Vectorizer, at baseline the Naive Bayes model 27669 reviews were correctly predicted as 'five' (positive) ratings (TP) and 4494 were correctly predicted as 'not5' (negative) ratings (TN). However, 15668 reviews were incorrectly predicted to be 'five' (positive) ratings (FP) and 368 reviews were incorrectly predicted to be 'not5' (negative) ratings but they are 'five'(FN).\n",
    "\n",
    "The TfidfVectorizer with default settings did better in predicting high ratings ('five') but did poorly for low ones ('not5'). Parameters definitely need to be tuned."
   ]
  },
  {
   "cell_type": "markdown",
   "metadata": {},
   "source": [
    "### Picking Hyperparameters\n",
    "\n",
    "I want to look at the __alpha__, __min_df__ and __fit_prior__ to see if I can make the model better.\n",
    "\n",
    "#### min_df:"
   ]
  },
  {
   "cell_type": "markdown",
   "metadata": {},
   "source": [
    "___Qusetion: Do I have to use X_train dataset or the whole review dataset (X)?___"
   ]
  },
  {
   "cell_type": "code",
   "execution_count": 15,
   "metadata": {},
   "outputs": [
    {
     "data": {
      "image/png": "[encoded data removed]",
      "text/plain": [
       "<Figure size 720x576 with 1 Axes>"
      ]
     },
     "metadata": {
      "needs_background": "light"
     },
     "output_type": "display_data"
    }
   ],
   "source": [
    "vectorizer = CountVectorizer()\n",
    "X = vectorizer.fit_transform(X_baby) # X_baby = baby_products.clean_review_baby\n",
    "X = X.tocsc() \n",
    "\n",
    "\n",
    "#  to get a count of documents in which a word has appeared, sum it across rows\n",
    "df = np.sum(X>0,axis=0).tolist()[0]\n",
    "\n",
    "x_df = np.sort(df)\n",
    "y_df = np.arange(1, len(df) + 1)/len(df)\n",
    "\n",
    "fig, ax = plt.subplots(figsize=(10,8))\n",
    "_ = plt.plot(x_df, y_df)\n",
    "_ = plt.xlim([0,30])\n",
    "_ = plt.ylim([0, .8])\n",
    "_ = plt.xticks([x for x in range(0,62,2)])\n",
    "_ = plt.title('Cumulative Dist. of Document Frequencies(df)')\n",
    "_ = plt.xlabel('Document Frequency Count')\n",
    "_ = plt.ylabel('% Words Appearing less than x(i)')\n",
    "\n",
    "plt.show()"
   ]
  },
  {
   "cell_type": "code",
   "execution_count": 16,
   "metadata": {},
   "outputs": [
    {
     "name": "stdout",
     "output_type": "stream",
     "text": [
      "AUC: 0.7570805457143218, Min_df: 0.0001, F1: 0.803446\n",
      "AUC: 0.7471393649237659, Min_df: 0.001, F1: 0.796200\n",
      "AUC: 0.7282880816472637, Min_df: 0.01, F1: 0.784735\n",
      "AUC: 0.6221189835033026, Min_df: 0.1, F1: 0.727414\n",
      "AUC: 0.7418522771839783, Min_df: 1, F1: 0.808195\n",
      "AUC: 0.7511579724932828, Min_df: 2, F1: 0.805253\n",
      "AUC: 0.7536483702327161, Min_df: 3, F1: 0.804435\n",
      "AUC: 0.75552219163733, Min_df: 4, F1: 0.804516\n",
      "AUC: 0.7556182808469218, Min_df: 5, F1: 0.803656\n",
      "AUC: 0.7548656626766711, Min_df: 6, F1: 0.803090\n",
      "\n",
      " Best Values: \n",
      " Min_df: 0.0001, AUC: 0.7570805457143218, F1: 0.803446\n"
     ]
    }
   ],
   "source": [
    "# best min_df for CountVectorizer\n",
    "\n",
    "values_dict = {}\n",
    "pos_df = [.0001, .001, .01, .1, 1, 2]\n",
    "\n",
    "for min_df in pos_df:\n",
    "    vect = CountVectorizer(min_df=min_df, ngram_range=(1, 2)) \n",
    "    X_train_dtm = vect.fit_transform(X_train_baby)\n",
    "    X_test_dtm = vect.transform(X_test_baby)\n",
    "    nb = MultinomialNB(alpha=1, fit_prior=True)\n",
    "    nb.fit(X_train_dtm, y_train_baby)\n",
    "    y_pred_class = nb.predict(X_test_dtm)\n",
    "    f1 = metrics.f1_score(y_test_baby, y_pred_class)\n",
    "    y_pred_prob = nb.predict_proba(X_test_dtm)[:,1]\n",
    "    auc = metrics.roc_auc_score(y_test_baby, y_pred_class)\n",
    "    values_dict[auc] = [f1, min_df]\n",
    "    print(\"AUC: {}, Min_df: {}, F1: {:4f}\".format(auc, min_df, f1))\n",
    "    \n",
    "best_auc = max(values_dict.keys())\n",
    "best_f1 = values_dict[max(values_dict.keys())][0]\n",
    "best_min_df = values_dict[max(values_dict.keys())][1]\n",
    "print('\\n Best Values: \\n Min_df: {}, AUC: {}, F1: {:4f}'.format(best_min_df, best_auc, best_f1))"
   ]
  },
  {
   "cell_type": "code",
   "execution_count": 17,
   "metadata": {},
   "outputs": [
    {
     "name": "stdout",
     "output_type": "stream",
     "text": [
      "AUC: 0.8419901678311728, Min_df: 0.0001, F1: 0.812816\n",
      "AUC: 0.8331396550727564, Min_df: 0.001, F1: 0.806319\n",
      "AUC: 0.812540886451798, Min_df: 0.01, F1: 0.793671\n",
      "AUC: 0.6940585984771346, Min_df: 0.1, F1: 0.744600\n",
      "AUC: 0.8325516131688426, Min_df: 1, F1: 0.775324\n",
      "AUC: 0.8409721997973282, Min_df: 2, F1: 0.798152\n",
      "\n",
      " Best Values: \n",
      " Min_df: 0.0001, AUC: 0.8419901678311728, F1: 0.812816\n"
     ]
    }
   ],
   "source": [
    "# best min_df for TfidfVectorizer\n",
    "values_dict = {}\n",
    "pos_df = [.0001, .001, .01, .1, 1, 2]\n",
    "\n",
    "for min_df in pos_df:\n",
    "    tfidf = TfidfVectorizer(min_df=min_df, ngram_range=(1, 2)) \n",
    "    X_train_tfidf_baby = tfidf.fit_transform(X_train_baby)\n",
    "    X_test_tfidf_baby = tfidf.transform(X_test_baby)\n",
    "    nb_tfidf = MultinomialNB(alpha=1, fit_prior=True)\n",
    "    nb_tfidf.fit(X_train_tfidf_baby, y_train_baby)\n",
    "    y_pred_tfidf = nb_tfidf.predict(X_test_tfidf_baby)\n",
    "    f1 = metrics.f1_score(y_test_baby, y_pred_tfidf)\n",
    "    y_prob_tfidf = nb_tfidf.predict_proba(X_test_tfidf_baby)[:,1]\n",
    "    auc = metrics.roc_auc_score(y_test_baby, y_prob_tfidf)\n",
    "    values_dict[auc] = [f1, min_df]\n",
    "    print(\"AUC: {}, Min_df: {}, F1: {:4f}\".format(auc, min_df, f1))\n",
    "\n",
    "best_auc = max(values_dict.keys())\n",
    "best_f1 = values_dict[max(values_dict.keys())][0]\n",
    "best_min_df = values_dict[max(values_dict.keys())][1]\n",
    "print('\\n Best Values: \\n Min_df: {}, AUC: {}, F1: {:4f}'.format(best_min_df, best_auc, best_f1))"
   ]
  },
  {
   "cell_type": "markdown",
   "metadata": {},
   "source": [
    "Best min_df for both CountVectorizer and for TfidfVectorizer is 0.0001.\n"
   ]
  },
  {
   "cell_type": "markdown",
   "metadata": {},
   "source": [
    "#### GridSearchCV\n",
    "\n",
    "__Run GridSearchCV on best parameters for CountVectorizer__"
   ]
  },
  {
   "cell_type": "code",
   "execution_count": 18,
   "metadata": {},
   "outputs": [
    {
     "data": {
      "text/plain": [
       "['alpha', 'class_prior', 'fit_prior']"
      ]
     },
     "execution_count": 18,
     "metadata": {},
     "output_type": "execute_result"
    }
   ],
   "source": [
    "# run this to get a list of the all available pipe-items unique keys for the grid parameters\n",
    "sorted(nb.get_params().keys())"
   ]
  },
  {
   "cell_type": "code",
   "execution_count": 19,
   "metadata": {},
   "outputs": [],
   "source": [
    "# Create a list of parameters for tuning\n",
    "parameters = {'fit_prior': (True, False),\n",
    "              'alpha': (0.001, 0.01, 0.1, 1, 5, 10),\n",
    "             }"
   ]
  },
  {
   "cell_type": "code",
   "execution_count": 20,
   "metadata": {},
   "outputs": [
    {
     "name": "stdout",
     "output_type": "stream",
     "text": [
      "GridSearchCV(cv=5, error_score=nan,\n",
      "             estimator=MultinomialNB(alpha=1.0, class_prior=None,\n",
      "                                     fit_prior=True),\n",
      "             iid='deprecated', n_jobs=None,\n",
      "             param_grid={'alpha': (0.001, 0.01, 0.1, 1, 5, 10),\n",
      "                         'fit_prior': (True, False)},\n",
      "             pre_dispatch='2*n_jobs', refit=True, return_train_score=False,\n",
      "             scoring='roc_auc', verbose=0)\n",
      "\n",
      "Best Score:  0.8283025959053957\n",
      "Best parameters: {'alpha': 5, 'fit_prior': False}\n"
     ]
    }
   ],
   "source": [
    "# Instantiate Vectorizer with new min_df \n",
    "vect = CountVectorizer(min_df=.0001, ngram_range=(1, 2)) \n",
    "\n",
    "# Apply CountVectorizer to learn training data vocabulary, then use it to create a document-term matrix\n",
    "X_train_dtm = vect.fit_transform(X_train_baby)\n",
    "\n",
    "# transform testing data (using fitted vocabulary) into a document-term matrix\n",
    "X_test_dtm = vect.transform(X_test_baby)\n",
    "\n",
    "# Perform GridSearch on Naive Bayes using the given parameters and CountVectorizer\n",
    "gs_count = GridSearchCV(MultinomialNB(), parameters, scoring='roc_auc', cv=5)\n",
    "gs_count.fit(X_train_dtm, y_train_baby)\n",
    "\n",
    "# View the best score (set to roc_auc) for MultinomialNB with CountVect\n",
    "print(gs_count)\n",
    "print('\\nBest Score: ', gs_count.best_score_)\n",
    "\n",
    "# Get best parameters for MultinomialNB with CountVect\n",
    "print('Best parameters:', gs_count.best_params_)\n",
    "# Alpha = 1 is the default and picked as best alpha\n",
    "# fit_prior: True (default)"
   ]
  },
  {
   "cell_type": "markdown",
   "metadata": {},
   "source": [
    "__Run GridSearchCV on best parameters for TfidfVectorizer__"
   ]
  },
  {
   "cell_type": "code",
   "execution_count": 21,
   "metadata": {},
   "outputs": [
    {
     "name": "stdout",
     "output_type": "stream",
     "text": [
      "GridSearchCV(cv=5, error_score=nan,\n",
      "             estimator=MultinomialNB(alpha=1.0, class_prior=None,\n",
      "                                     fit_prior=True),\n",
      "             iid='deprecated', n_jobs=None,\n",
      "             param_grid={'alpha': (0.001, 0.01, 0.1, 1, 5, 10),\n",
      "                         'fit_prior': (True, False)},\n",
      "             pre_dispatch='2*n_jobs', refit=True, return_train_score=False,\n",
      "             scoring='roc_auc', verbose=0)\n",
      "\n",
      "Best Score:  0.8418365692475047\n",
      "Best parameters: {'alpha': 1, 'fit_prior': True}\n"
     ]
    }
   ],
   "source": [
    "# Instantiate Vectorizer with new min_df \n",
    "tfidf = TfidfVectorizer(min_df=0.0001, ngram_range=(1, 2))\n",
    "\n",
    "# Apply TfidfVectorizer to learn training data vocabulary,then use it to create a document-term matrix\n",
    "X_train_tfidf_baby = tfidf.fit_transform(X_train_baby)\n",
    "\n",
    "# transform testing data with tfidif vectorizer into document-term matrix\n",
    "X_test_tfidf_baby = tfidf.transform(X_test_baby)\n",
    "\n",
    "\n",
    "# Perform GridSearch on Naive Bayes using the given parameters and CountVectorizer\n",
    "gs_tfidf = GridSearchCV(MultinomialNB(), parameters, scoring='roc_auc', cv=5)\n",
    "gs_tfidf.fit(X_train_tfidf_baby, y_train_baby)\n",
    "\n",
    "# View the best score (set to roc_auc) for MultinomialNB with TfidfVect\n",
    "print(gs_tfidf)\n",
    "print('\\nBest Score: ', gs_tfidf.best_score_)\n",
    "\n",
    "# Get best parameters for MultinomialNB with TfidfVect\n",
    "print('Best parameters:', gs_tfidf.best_params_)"
   ]
  },
  {
   "cell_type": "markdown",
   "metadata": {},
   "source": [
    "__Interpretation:__\n",
    "\n",
    "The Naive Bayes model using a minimum document frequency of .0001 for CountVectorizer and TfidfVectorizer performs well. GridSearchCV indicated that the best parameters for TfidfVectorizer were the default ones but for CountVectorizer it was different ('alpha': 5, 'fit_prior': False). For further algorithms I will continue to use the TfidfVectorizer because it provided slightly better results.For the rest of the algorithms I will use the document terms matrix from the TfidfVectorizer because it has better score.\n",
    "\n",
    "Next I will look further into the text to further improve the model amongst other algorithms and classifiers. "
   ]
  },
  {
   "cell_type": "code",
   "execution_count": 22,
   "metadata": {},
   "outputs": [
    {
     "name": "stdout",
     "output_type": "stream",
     "text": [
      "AUC:  0.8419901678311728\n"
     ]
    }
   ],
   "source": [
    "# Calculate predicted probabilities for X_test_tfidf_baby\n",
    "y_prob_nb = gs_tfidf.predict_proba(X_test_tfidf_baby)[:,1]\n",
    "\n",
    "# Calculate AUC for Naive Bayes model with TfidfVectorizer\n",
    "auc = metrics.roc_auc_score(y_test_baby, y_prob_nb)\n",
    "\n",
    "print('AUC: ', auc)"
   ]
  },
  {
   "cell_type": "code",
   "execution_count": 23,
   "metadata": {
    "scrolled": false
   },
   "outputs": [
    {
     "data": {
      "image/png": "[encoded data removed]",
      "text/plain": [
       "<Figure size 720x576 with 1 Axes>"
      ]
     },
     "metadata": {
      "needs_background": "light"
     },
     "output_type": "display_data"
    }
   ],
   "source": [
    "# Generate ROC curve values: fpr, tpr, thresholds\n",
    "fpr, tpr, thresholds = roc_curve(y_test_baby, y_prob_nb)\n",
    "\n",
    "# Plot ROC curve\n",
    "plt.figure(figsize=(10,8))\n",
    "plt.plot([0, 1], [0, 1], 'k--')\n",
    "plt.plot(fpr, tpr)\n",
    "plt.xlabel('False Positive Rate')\n",
    "plt.ylabel('True Positive Rate')\n",
    "plt.title('ROC Curve with TfidfVectorizer, MNB')\n",
    "plt.show()"
   ]
  },
  {
   "cell_type": "markdown",
   "metadata": {},
   "source": [
    "### Most Predictive Features"
   ]
  },
  {
   "cell_type": "code",
   "execution_count": 24,
   "metadata": {},
   "outputs": [
    {
     "name": "stdout",
     "output_type": "stream",
     "text": [
      "Good words\t     P(five (positive) | word)\n",
      "          say enough 0.95\n",
      "  recommend everyone 0.93\n",
      "         every penny 0.92\n",
      "    recommend enough 0.91\n",
      "         worth every 0.91\n",
      "        great highly 0.91\n",
      "    highly recommend 0.91\n",
      "               penny 0.91\n",
      "       could happier 0.90\n",
      "   totally recommend 0.90\n",
      "Bad words\t     P(five (positive) | word)\n",
      "          give three 0.13\n",
      "              refund 0.12\n",
      "       poorly design 0.12\n",
      "        would return 0.12\n",
      "           execution 0.10\n",
      "         return item 0.09\n",
      "           give four 0.09\n",
      "            one star 0.09\n",
      "        give instead 0.04\n",
      "         reason give 0.03\n"
     ]
    }
   ],
   "source": [
    "words = np.array(tfidf.get_feature_names())\n",
    "\n",
    "# Create an identity matrix the length of the vocabulary\n",
    "x = np.eye(X_test_tfidf_baby.shape[1]) \n",
    "\n",
    "# Use the model to predict on the identity matrix, and get a list of probabilities for each word\n",
    "probs = gs_tfidf.predict_log_proba(x)[:,0] \n",
    "\n",
    "# Sort for most/least probable words for any give class\n",
    "ind = np.argsort(probs)\n",
    "\n",
    "good_words = words[ind[:10]]\n",
    "bad_words = words[ind[-10:]]\n",
    "\n",
    "good_prob = probs[ind[:10]]\n",
    "bad_prob = probs[ind[-10:]]\n",
    "\n",
    "print(\"Good words\\t     P(five (positive) | word)\")\n",
    "for w, p in zip(good_words, good_prob):\n",
    "    print(\"{:>20}\".format(w), \"{:.2f}\".format(1 - np.exp(p)))\n",
    "    \n",
    "print(\"Bad words\\t     P(five (positive) | word)\")\n",
    "for w, p in zip(bad_words, bad_prob):\n",
    "    print(\"{:>20}\".format(w), \"{:.2f}\".format(1 - np.exp(p)))"
   ]
  },
  {
   "cell_type": "markdown",
   "metadata": {},
   "source": [
    "__Word Clouds  for Positive and Nagetive Words__"
   ]
  },
  {
   "cell_type": "code",
   "execution_count": 67,
   "metadata": {},
   "outputs": [
    {
     "data": {
      "image/png": "[encoded data removed]",
      "text/plain": [
       "<Figure size 1296x576 with 2 Axes>"
      ]
     },
     "metadata": {
      "needs_background": "light"
     },
     "output_type": "display_data"
    }
   ],
   "source": [
    "# from PIL import Image\n",
    "\n",
    "high_rate = dict(zip(good_words, np.round(1-np.exp(good_prob), 2)))\n",
    "low_rate = dict (zip(bad_words, np.round(1-np.exp(bad_prob), 2)))\n",
    "\n",
    "# Read the mask image\n",
    "#baby_bottle_mask = np.array(Image.open(\"baby_bottle.jpg\"))\n",
    "\n",
    "fig, axs = plt.subplots(1, 2, figsize  = (18,8))\n",
    "\n",
    "# Generate WordCloud images\n",
    "\n",
    "wordcloud_high = WordCloud(max_font_size=70, background_color=\"lavender\",colormap='winter').generate_from_frequencies(high_rate)\n",
    "wordcloud_low = WordCloud(max_font_size=70, background_color=\"lavender\",colormap='winter').generate_from_frequencies(low_rate)\n",
    "\n",
    "# Display the image\n",
    "\n",
    "axs[0].imshow(wordcloud_high, interpolation='bilinear')\n",
    "axs[0].set_title('Positive Words', fontsize=20)\n",
    "axs[0].axis('off')\n",
    "\n",
    "axs[1].imshow(wordcloud_low, interpolation='bilinear')\n",
    "axs[1].set_title('Negative Words', fontsize=20)\n",
    "axs[1].axis('off');"
   ]
  },
  {
   "cell_type": "markdown",
   "metadata": {},
   "source": [
    "### Fit other Classifiers with TFIDF Vectorizer\n",
    "\n",
    "#### 1. Logistic Regression"
   ]
  },
  {
   "cell_type": "code",
   "execution_count": 90,
   "metadata": {
    "scrolled": false
   },
   "outputs": [
    {
     "name": "stderr",
     "output_type": "stream",
     "text": [
      "/opt/anaconda3/lib/python3.7/site-packages/sklearn/linear_model/_logistic.py:1501: UserWarning: l1_ratio parameter is only used when penalty is 'elasticnet'. Got (penalty=l2)\n",
      "  \"(penalty={})\".format(self.penalty))\n"
     ]
    },
    {
     "name": "stdout",
     "output_type": "stream",
     "text": [
      "Tuned Logistic Regression Parameters: {'C': 0.8500000000000001, 'l1_ratio': 0}\n",
      "Best score is 0.8591903785119175\n"
     ]
    }
   ],
   "source": [
    "\n",
    "# Setup the hyperparameter grid\n",
    "param_grid = {'C': np.arange(0.05, 4, 0.8),\n",
    "              'l1_ratio': [0, 1]\n",
    "              }\n",
    "# Instantiate a logistic regression classifier: logreg\n",
    "logreg = LogisticRegression(max_iter=1000)\n",
    "\n",
    "# Instantiate the GridSearchCV object: logreg_cv\n",
    "logreg_cv = GridSearchCV(logreg, param_grid, cv=5, scoring='roc_auc', n_jobs = -1)\n",
    "\n",
    "# Fit it to the data\n",
    "logreg_cv.fit(X_train_tfidf_baby, y_train_baby)\n",
    "\n",
    "# Print the tuned parameters and score\n",
    "print(\"Tuned Logistic Regression Parameters: {}\".format(logreg_cv.best_params_)) \n",
    "print(\"Best score is {}\".format(logreg_cv.best_score_))\n"
   ]
  },
  {
   "cell_type": "code",
   "execution_count": 91,
   "metadata": {},
   "outputs": [
    {
     "data": {
      "text/plain": [
       "0.8216119052145806"
      ]
     },
     "execution_count": 91,
     "metadata": {},
     "output_type": "execute_result"
    }
   ],
   "source": [
    "\n",
    "pred_log_clf = logreg_cv.predict(X_test_tfidf_baby)\n",
    "\n",
    "# Calculate F1 Score\n",
    "metrics.f1_score(y_test_baby, pred_log_clf)"
   ]
  },
  {
   "cell_type": "code",
   "execution_count": 92,
   "metadata": {},
   "outputs": [
    {
     "data": {
      "text/plain": [
       "0.8601935850799451"
      ]
     },
     "execution_count": 92,
     "metadata": {},
     "output_type": "execute_result"
    }
   ],
   "source": [
    "# Calculate Predicted Probabilities,# keep probabilities for the positive outcome only\n",
    "pred_prob_log_clf = logreg_cv.predict_proba(X_test_tfidf_baby)[:,1]\n",
    "\n",
    "# Determine ROC Score\n",
    "metrics.roc_auc_score(y_test_baby, pred_prob_log_clf)\n"
   ]
  },
  {
   "cell_type": "code",
   "execution_count": 93,
   "metadata": {},
   "outputs": [
    {
     "data": {
      "image/png": "[encoded data removed]",
      "text/plain": [
       "<Figure size 720x720 with 1 Axes>"
      ]
     },
     "metadata": {
      "needs_background": "light"
     },
     "output_type": "display_data"
    }
   ],
   "source": [
    "# Generate ROC curve values: fpr, tpr, thresholds\n",
    "fpr, tpr, thresholds = roc_curve(y_test_baby, pred_prob_log_clf)\n",
    "\n",
    "# Plot ROC curve\n",
    "plt.figure(figsize=(10,10))\n",
    "plt.plot([0, 1], [0, 1], 'k--')\n",
    "plt.plot(fpr, tpr)\n",
    "plt.xlabel('False Positive Rate')\n",
    "plt.ylabel('True Positive Rate')\n",
    "plt.title('ROC Curve for LogisticRegressionCV')\n",
    "plt.show()\n"
   ]
  },
  {
   "cell_type": "markdown",
   "metadata": {},
   "source": [
    "#### 2. Random Forest"
   ]
  },
  {
   "cell_type": "code",
   "execution_count": 78,
   "metadata": {},
   "outputs": [
    {
     "data": {
      "text/plain": [
       "0.7980435195907292"
      ]
     },
     "execution_count": 78,
     "metadata": {},
     "output_type": "execute_result"
    }
   ],
   "source": [
    "# Instantiate and fit Random Forests Model\n",
    "rf_clf = RandomForestClassifier(class_weight='balanced',n_jobs = -1).fit(X_train_tfidf_baby, y_train_baby)\n",
    "\n",
    "\n",
    "pred_rf_clf = rf_clf.predict(X_test_tfidf_baby)\n",
    "\n",
    "# Calculate F1 Score\n",
    "metrics.f1_score(y_test_baby, pred_rf_clf)\n"
   ]
  },
  {
   "cell_type": "code",
   "execution_count": 81,
   "metadata": {},
   "outputs": [
    {
     "data": {
      "text/plain": [
       "GridSearchCV(cv=3, error_score=nan,\n",
       "             estimator=RandomForestClassifier(bootstrap=True, ccp_alpha=0.0,\n",
       "                                              class_weight='balanced',\n",
       "                                              criterion='gini', max_depth=None,\n",
       "                                              max_features='auto',\n",
       "                                              max_leaf_nodes=None,\n",
       "                                              max_samples=None,\n",
       "                                              min_impurity_decrease=0.0,\n",
       "                                              min_impurity_split=None,\n",
       "                                              min_samples_leaf=1,\n",
       "                                              min_samples_split=2,\n",
       "                                              min_weight_fraction_leaf=0.0,\n",
       "                                              n_estimators=100, n_jobs=None,\n",
       "                                              oob_score=False,\n",
       "                                              random_state=None, verbose=0,\n",
       "                                              warm_start=False),\n",
       "             iid='deprecated', n_jobs=4,\n",
       "             param_grid={'max_depth': [10, 60, 100, None],\n",
       "                         'max_features': ['sqrt', 'auto'],\n",
       "                         'n_estimators': [50, 100, 300, 500]},\n",
       "             pre_dispatch='2*n_jobs', refit=True, return_train_score=False,\n",
       "             scoring='roc_auc', verbose=0)"
      ]
     },
     "execution_count": 81,
     "metadata": {},
     "output_type": "execute_result"
    }
   ],
   "source": [
    "# Create the parameter grid\n",
    "parameters = {'max_features': ['sqrt', 'auto'],\n",
    "              'max_depth': [10, 60, 100, None],\n",
    "              'n_estimators': [50, 100, 300, 500]\n",
    "              }\n",
    "\n",
    "# Instantiate the grid search model\n",
    "gs_rf = GridSearchCV(RandomForestClassifier(class_weight='balanced'), \n",
    "                     parameters, scoring='roc_auc', n_jobs=4, cv=3)\n",
    "\n",
    "# Fit the grid search to the data\n",
    "gs_rf.fit(X_train_tfidf_baby, y_train_baby)\n"
   ]
  },
  {
   "cell_type": "code",
   "execution_count": 82,
   "metadata": {},
   "outputs": [
    {
     "name": "stdout",
     "output_type": "stream",
     "text": [
      "Best Score:  0.8354701064754955\n",
      "Best Parameters:  {'max_depth': 100, 'max_features': 'sqrt', 'n_estimators': 500}\n"
     ]
    }
   ],
   "source": [
    "# Get best parameters and best accuracy score\n",
    "print('Best Score: ', gs_rf.best_score_)\n",
    "print('Best Parameters: ', gs_rf.best_params_)"
   ]
  },
  {
   "cell_type": "code",
   "execution_count": 83,
   "metadata": {},
   "outputs": [],
   "source": [
    "# calculate predicted probabilities # keep probabilities for the positive outcome only\n",
    "pred_prob_rf_clf = gs_rf.predict_proba(X_test_tfidf_baby)[:, 1]"
   ]
  },
  {
   "cell_type": "code",
   "execution_count": 84,
   "metadata": {},
   "outputs": [
    {
     "data": {
      "text/plain": [
       "0.8360841137989617"
      ]
     },
     "execution_count": 84,
     "metadata": {},
     "output_type": "execute_result"
    }
   ],
   "source": [
    "# Determine ROC score\n",
    "metrics.roc_auc_score(y_test_baby, pred_prob_rf_clf)"
   ]
  },
  {
   "cell_type": "code",
   "execution_count": 85,
   "metadata": {},
   "outputs": [
    {
     "data": {
      "image/png": "[encoded data removed]",
      "text/plain": [
       "<Figure size 720x720 with 1 Axes>"
      ]
     },
     "metadata": {
      "needs_background": "light"
     },
     "output_type": "display_data"
    }
   ],
   "source": [
    "# Generate ROC curve values: fpr, tpr, thresholds\n",
    "fpr, tpr, thresholds = roc_curve(y_test_baby, pred_prob_rf_clf)\n",
    "\n",
    "# Plot ROC curve\n",
    "plt.figure(figsize=(10,10))\n",
    "plt.plot([0, 1], [0, 1], 'k--', , label='No Skill')\n",
    "plt.plot(fpr, tpr, label='Logistic')\n",
    "plt.xlabel('False Positive Rate')\n",
    "plt.ylabel('True Positive Rate')\n",
    "plt.title('ROC Curve for RandomForestClassifier')\n",
    "plt.show()"
   ]
  },
  {
   "cell_type": "markdown",
   "metadata": {},
   "source": [
    "### Thresholding for best model based on different business situation\n",
    "\n",
    "- Adjust threshold of best classifier which is Logistic Regression\n",
    "\n",
    "- The default threshold for interpreting probabilities to class labels is 0.5\n",
    "      Prediction < 0.5 = Class 0\n",
    "      Prediction >= 0.5 = Class 1\n",
    "- Procedure for Thresholding:\n",
    "      1. Fit Model on the Training Dataset.\n",
    "      2. Predict Probabilities on the Test Dataset.\n",
    "      3. For each threshold in Thresholds:\n",
    "            3a. Convert probabilities to Class Labels using the threshold.\n",
    "            3b. Evaluate Class Labels.\n",
    "            3c. If Score is Better than Best Score.\n",
    "            3ci. Adopt Threshold.\n",
    "      4. Use Adopted Threshold When Making Class Predictions on New Data.\n"
   ]
  },
  {
   "cell_type": "markdown",
   "metadata": {},
   "source": [
    "__Scoring metrics:__ \n",
    "    \n",
    "    - Precision \n",
    "    - Recall\n",
    "    - Accuracy\n",
    "    - Balanced Accuracy (Accuracy determined for imbalanced datasets)\n",
    "    - fbeta-score"
   ]
  },
  {
   "cell_type": "markdown",
   "metadata": {},
   "source": [
    "#### I. __Business Case 1: Market Comparisons of the Baby Products__\n",
    "\n",
    "I will look at __acccuracy__ and __confusion matrices__ to determined the best threshold to have best accuracy, and least number of false positives and false negatives.\n"
   ]
  },
  {
   "cell_type": "code",
   "execution_count": 169,
   "metadata": {},
   "outputs": [
    {
     "name": "stdout",
     "output_type": "stream",
     "text": [
      "[[14110  6052]\n",
      " [ 4269 23768]]\n",
      "-----------------\n",
      "[['TN' 'FP']\n",
      " ['FN' 'TP']]\n"
     ]
    }
   ],
   "source": [
    "# Create and print the confusion matrix for the LogReg Model\n",
    "confusion_logreg = metrics.confusion_matrix(y_test_baby, pred_log_clf)\n",
    "print(confusion_logreg)\n",
    "print('-'* 17)\n",
    "print(np.array([['TN', 'FP'],[ 'FN' , 'TP']]))"
   ]
  },
  {
   "cell_type": "code",
   "execution_count": 130,
   "metadata": {},
   "outputs": [
    {
     "data": {
      "text/plain": [
       "0.7737841425035732"
      ]
     },
     "execution_count": 130,
     "metadata": {},
     "output_type": "execute_result"
    }
   ],
   "source": [
    "# Calculate balanced accuracy\n",
    "balanced_accuracy_score(y_test_baby, pred_log_clf)"
   ]
  },
  {
   "cell_type": "code",
   "execution_count": 160,
   "metadata": {},
   "outputs": [],
   "source": [
    "# define thresholds\n",
    "thresholds_a =np.arange(0,1,.01)"
   ]
  },
  {
   "cell_type": "code",
   "execution_count": 161,
   "metadata": {},
   "outputs": [],
   "source": [
    "# apply threshold to positive probabilities to create labels\n",
    "def to_labels(y_pred_prob, threshold):\n",
    "    return (y_pred_prob >= threshold).astype('int')"
   ]
  },
  {
   "cell_type": "code",
   "execution_count": 162,
   "metadata": {},
   "outputs": [
    {
     "name": "stdout",
     "output_type": "stream",
     "text": [
      "Best Threshold=0.480\n",
      "\n",
      "Highest Accuracy=0.78593\n",
      "\n",
      "[[13701  6461]\n",
      " [ 3857 24180]]\n"
     ]
    }
   ],
   "source": [
    "# evaluate each threshold\n",
    "accuracy_points = [accuracy_score(y_test_baby, to_labels(pred_prob_log_clf, t)) for t in thresholds_a]\n",
    "\n",
    "# get best threshold\n",
    "ix = np.argmax(accuracy_points)\n",
    "\n",
    "print('Best Threshold=%.3f' % (thresholds_a[ix]))\n",
    "print()\n",
    "print('Highest Accuracy=%.5f'%(accuracy_points[ix]))\n",
    "print()\n",
    "print(metrics.confusion_matrix(y_test_baby, to_labels(pred_prob_log_clf, thresholds_a[ix])))"
   ]
  },
  {
   "cell_type": "code",
   "execution_count": 163,
   "metadata": {},
   "outputs": [
    {
     "name": "stdout",
     "output_type": "stream",
     "text": [
      "Best Threshold=0.580\n",
      "\n",
      "Highest Accuracy=0.77886\n",
      "\n",
      "[[15683  4479]\n",
      " [ 6172 21865]]\n"
     ]
    }
   ],
   "source": [
    "balanced_accuracy_points = [balanced_accuracy_score(y_test_baby, to_labels(pred_prob_log_clf, t)) for t in thresholds_a]\n",
    "\n",
    "# get best threshold\n",
    "ix1 = np.argmax(balanced_accuracy_points)\n",
    "\n",
    "print('Best Threshold=%.3f' % (thresholds_a[ix1]))\n",
    "print()\n",
    "print('Highest Accuracy=%.5f'%(balanced_accuracy_points[ix1]))\n",
    "print()\n",
    "print(metrics.confusion_matrix(y_test_baby, to_labels(pred_prob_log_clf, thresholds_a[ix1])))"
   ]
  },
  {
   "cell_type": "markdown",
   "metadata": {},
   "source": [
    "The threshold level of 0.48 provides the best results with an accuracy of 0.786. In total there are 10318 mispredictions, 6172 false negatives and 4479 false positives.\n"
   ]
  },
  {
   "cell_type": "code",
   "execution_count": 156,
   "metadata": {},
   "outputs": [
    {
     "data": {
      "image/png": "[encoded data removed]",
      "text/plain": [
       "<Figure size 720x432 with 1 Axes>"
      ]
     },
     "metadata": {
      "needs_background": "light"
     },
     "output_type": "display_data"
    }
   ],
   "source": [
    "plt.figure(figsize=(10,6))\n",
    "plt.plot(thresholds, accuracy_points, color='blue')\n",
    "plt.plot(thresholds, balanced_accuracy_points, color='red')\n",
    "plt.title('Accuracy Curve')\n",
    "plt.legend(('Accuracy', 'Balanced Accuracy'))\n",
    "plt.xlabel('Threshold')\n",
    "plt.axvline(x=.48, color='black')\n",
    "plt.text(.45,.45,'Optimal Threshold Accuracy',rotation=90)\n",
    "plt.axvline(x=.58, color='black')\n",
    "plt.text(.55,.45,'Optimal Threshold Balanced Acc.',rotation=90)\n",
    "plt.ylabel('Proportion')\n",
    "plt.show()"
   ]
  },
  {
   "cell_type": "markdown",
   "metadata": {},
   "source": [
    "#### II. Business Case 2: Customer Satisfaction\n",
    "For this case we will target the negative or low rated reviews because negative (low rated) reviews helps sellers to understand the issue and to improve their products and services. To measure this I will use Fbeta-score because it is a better measure when focusing on a specific class in this case low ratings and also the importance of precision and recall can be controlled by the coefficient beta based on different scenarios. For this case we will give more importance to recall and hence will put more attention on minimizing false negatives."
   ]
  },
  {
   "cell_type": "code",
   "execution_count": 158,
   "metadata": {},
   "outputs": [],
   "source": [
    "# Calculate Precision and Recall Curve\n",
    "precision, recall, thresholds = precision_recall_curve(y_test_baby, pred_prob_log_clf)\n",
    "thresholds = np.append(thresholds, 1)"
   ]
  },
  {
   "cell_type": "code",
   "execution_count": 101,
   "metadata": {},
   "outputs": [],
   "source": [
    "# Define a function to apply threshold to positive probabilities to create labels\n",
    "def to_labels(y_pred_prob, threshold):\n",
    "    return (y_pred_prob >= threshold).astype('int')"
   ]
  },
  {
   "cell_type": "code",
   "execution_count": 102,
   "metadata": {},
   "outputs": [],
   "source": [
    "# evaluate each threshold\n",
    "scores = [metrics.fbeta_score(y_test_baby, to_labels(pred_prob_log_clf, t), beta=0.5) for t in thresholds]\n"
   ]
  },
  {
   "cell_type": "code",
   "execution_count": 104,
   "metadata": {},
   "outputs": [
    {
     "name": "stdout",
     "output_type": "stream",
     "text": [
      "Threshold=0.643, fbeta-Score=0.82469\n"
     ]
    }
   ],
   "source": [
    "# get best threshold\n",
    "ix = np.argmax(scores)\n",
    "print('Best Threshold=%.3f, fbeta-Score=%.5f' % (thresholds[ix], scores[ix]))\n"
   ]
  },
  {
   "cell_type": "markdown",
   "metadata": {},
   "source": [
    "__Optimal Threshold for high Rating for different beta values__"
   ]
  },
  {
   "cell_type": "code",
   "execution_count": 127,
   "metadata": {},
   "outputs": [
    {
     "name": "stdout",
     "output_type": "stream",
     "text": [
      "beta= 0.5\n",
      "\n",
      "Best Threshold=0.643, fbeta-Score=0.82469\n",
      "\n",
      "Classification_Report:\n",
      "              precision    recall  f1-score   support\n",
      "\n",
      "           0       0.68      0.84      0.75     20162\n",
      "           1       0.86      0.71      0.78     28037\n",
      "\n",
      "    accuracy                           0.76     48199\n",
      "   macro avg       0.77      0.77      0.76     48199\n",
      "weighted avg       0.78      0.76      0.77     48199\n",
      "\n"
     ]
    }
   ],
   "source": [
    "# fbeta_score for beta = 0.5\n",
    "\n",
    "    \n",
    "# evaluate each threshold\n",
    "scores = [metrics.fbeta_score(y_test_baby, to_labels(pred_prob_log_clf, t), beta=0.5) for t in thresholds]\n",
    "\n",
    "# get best threshold\n",
    "ix = np.argmax(scores)\n",
    "print('beta=', 0.5)\n",
    "print()\n",
    "print('Best Threshold=%.3f, fbeta-Score=%.5f' % (thresholds[ix], scores[ix]))\n",
    "print()\n",
    "print('Classification_Report:')\n",
    "print(metrics.classification_report(y_test_baby, to_labels(pred_prob_log_clf, thresholds[ix])))\n",
    "   "
   ]
  },
  {
   "cell_type": "code",
   "execution_count": 128,
   "metadata": {},
   "outputs": [
    {
     "name": "stdout",
     "output_type": "stream",
     "text": [
      "beta= 1\n",
      "\n",
      "Best Threshold=0.441\n",
      "\n",
      "fbeta-Score=0.82684\n",
      "\n",
      "Classification Report:\n",
      "              precision    recall  f1-score   support\n",
      "\n",
      "           0       0.80      0.64      0.71     20162\n",
      "           1       0.77      0.89      0.83     28037\n",
      "\n",
      "    accuracy                           0.78     48199\n",
      "   macro avg       0.79      0.76      0.77     48199\n",
      "weighted avg       0.79      0.78      0.78     48199\n",
      "\n"
     ]
    }
   ],
   "source": [
    "# fbeta_score for beta = 1\n",
    "\n",
    "    \n",
    "# evaluate each threshold\n",
    "scores_1 = [metrics.fbeta_score(y_test_baby, to_labels(pred_prob_log_clf, t), beta=1) for t in thresholds]\n",
    "\n",
    "# get best threshold\n",
    "ix = np.argmax(scores_1)\n",
    "print('beta=', 1)\n",
    "print()\n",
    "print('Best Threshold=%.3f' % (thresholds[ix]))\n",
    "print()\n",
    "print('fbeta-Score=%.5f' % (scores_1[ix]))\n",
    "print()\n",
    "print('Classification Report:')\n",
    "print(metrics.classification_report(y_test_baby, to_labels(pred_prob_log_clf, thresholds[ix])))"
   ]
  },
  {
   "cell_type": "code",
   "execution_count": 164,
   "metadata": {},
   "outputs": [
    {
     "name": "stdout",
     "output_type": "stream",
     "text": [
      "beta= 2\n",
      "\n",
      "Best Threshold=0.215\n",
      "\n",
      "fbeta-Score=0.89603\n",
      "\n",
      "Classification Report:\n",
      "              precision    recall  f1-score   support\n",
      "\n",
      "           0       0.92      0.33      0.48     20162\n",
      "           1       0.67      0.98      0.79     28037\n",
      "\n",
      "    accuracy                           0.71     48199\n",
      "   macro avg       0.79      0.65      0.64     48199\n",
      "weighted avg       0.77      0.71      0.66     48199\n",
      "\n"
     ]
    }
   ],
   "source": [
    "\n",
    "# fbeta_score for beta = 2\n",
    "\n",
    "    \n",
    "# evaluate each threshold\n",
    "scores_2 = [metrics.fbeta_score(y_test_baby, to_labels(pred_prob_log_clf, t), beta=2) for t in thresholds]\n",
    "\n",
    "# get best threshold\n",
    "ix = np.argmax(scores_2)\n",
    "print('beta=', 2)\n",
    "print()\n",
    "print('Best Threshold=%.3f' % (thresholds[ix]))\n",
    "print()\n",
    "print('fbeta-Score=%.5f' % (scores_2[ix]))\n",
    "print()\n",
    "print('Classification Report:')\n",
    "print(metrics.classification_report(y_test_baby, to_labels(pred_prob_log_clf, thresholds[ix])))"
   ]
  },
  {
   "cell_type": "markdown",
   "metadata": {},
   "source": [
    "#### Optimal Threshold for low rating "
   ]
  },
  {
   "cell_type": "code",
   "execution_count": 168,
   "metadata": {},
   "outputs": [
    {
     "name": "stdout",
     "output_type": "stream",
     "text": [
      "beta= 2\n",
      "\n",
      "Best Threshold=0.802\n",
      "\n",
      "fbeta-Score=0.82871\n",
      "\n",
      "Classification Report:\n",
      "              precision    recall  f1-score   support\n",
      "\n",
      "           0       0.56      0.94      0.70     20162\n",
      "           1       0.92      0.47      0.62     28037\n",
      "\n",
      "    accuracy                           0.67     48199\n",
      "   macro avg       0.74      0.71      0.66     48199\n",
      "weighted avg       0.77      0.67      0.65     48199\n",
      "\n"
     ]
    }
   ],
   "source": [
    "# fbeta_score for beta = 2\n",
    "\n",
    "    \n",
    "# evaluate each threshold\n",
    "scores_2_not5 = [metrics.fbeta_score(y_test_baby, to_labels(pred_prob_log_clf, t), beta=2, pos_label=0) for t in thresholds]\n",
    "\n",
    "# get best threshold\n",
    "ix = np.argmax(scores_2_not5)\n",
    "print('beta=', 2)\n",
    "print()\n",
    "print('Best Threshold=%.3f' % (thresholds[ix]))\n",
    "print()\n",
    "print('fbeta-Score=%.5f' % (scores_2_not5[ix]))\n",
    "print()\n",
    "print('Classification Report:')\n",
    "print(metrics.classification_report(y_test_baby, to_labels(pred_prob_log_clf, thresholds[ix])))"
   ]
  },
  {
   "cell_type": "markdown",
   "metadata": {},
   "source": [
    "The Fbeta-measure with a beta value of 2.0 increases the importance of recall and lowers the importance of precision. \n",
    "\n",
    "If maximizing precision minimizes false positives, and maximizing recall minimizes false negatives, then the F2-measure puts more attention on minimizing false negatives than minimizing false positives.\n",
    "\n",
    "For this business case we will give more importance to recall in other words put more attention on minimizing false negatives.\n",
    "The optimal threshold for this case is 0.215 with fbeta_score of 0.896.\n",
    "\n",
    "\n",
    "Now lets plot the Precision, Recall and fbeta-Score on a graph together."
   ]
  },
  {
   "cell_type": "code",
   "execution_count": 167,
   "metadata": {},
   "outputs": [
    {
     "data": {
      "image/png": "[encoded data removed]",
      "text/plain": [
       "<Figure size 720x360 with 1 Axes>"
      ]
     },
     "metadata": {
      "needs_background": "light"
     },
     "output_type": "display_data"
    }
   ],
   "source": [
    "# Plot Precision, Recall and fbeta-Score on a graph together.\n",
    "\n",
    "plt.figure(figsize=(10,5))\n",
    "plt.plot(thresholds, precision, color='blue')\n",
    "plt.plot(thresholds, recall, color='red')\n",
    "plt.plot(thresholds, scores_2, color='green')\n",
    "plt.title('Precision Recall Curve - LogisticRegressionCV')\n",
    "plt.legend(('Precision', 'Recall', 'fbeta-Score'))\n",
    "plt.xlabel('Threshold')\n",
    "plt.ylabel('Proportion')\n",
    "plt.axvline(x=.215, color='black')\n",
    "plt.text(.19,.15,'Optimal Threshold Fbeta',rotation=90)\n",
    "\n",
    "plt.show()\n"
   ]
  },
  {
   "cell_type": "code",
   "execution_count": null,
   "metadata": {},
   "outputs": [],
   "source": []
  },
  {
   "cell_type": "code",
   "execution_count": null,
   "metadata": {},
   "outputs": [],
   "source": []
  },
  {
   "cell_type": "code",
   "execution_count": null,
   "metadata": {},
   "outputs": [],
   "source": []
  },
  {
   "cell_type": "code",
   "execution_count": null,
   "metadata": {},
   "outputs": [],
   "source": []
  },
  {
   "cell_type": "code",
   "execution_count": null,
   "metadata": {},
   "outputs": [],
   "source": []
  },
  {
   "cell_type": "code",
   "execution_count": null,
   "metadata": {},
   "outputs": [],
   "source": []
  },
  {
   "cell_type": "code",
   "execution_count": null,
   "metadata": {},
   "outputs": [],
   "source": []
  },
  {
   "cell_type": "code",
   "execution_count": null,
   "metadata": {},
   "outputs": [],
   "source": []
  }
 ],
 "metadata": {
  "kernelspec": {
   "display_name": "Python 3",
   "language": "python",
   "name": "python3"
  },
  "language_info": {
   "codemirror_mode": {
    "name": "ipython",
    "version": 3
   },
   "file_extension": ".py",
   "mimetype": "text/x-python",
   "name": "python",
   "nbconvert_exporter": "python",
   "pygments_lexer": "ipython3",
   "version": "3.7.6"
  }
 },
 "nbformat": 4,
 "nbformat_minor": 4
}
